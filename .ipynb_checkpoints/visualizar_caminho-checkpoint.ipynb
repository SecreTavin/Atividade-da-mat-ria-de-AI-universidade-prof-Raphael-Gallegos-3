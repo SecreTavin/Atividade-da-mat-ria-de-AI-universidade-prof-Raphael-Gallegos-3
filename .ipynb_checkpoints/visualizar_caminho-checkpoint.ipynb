{
 "cells": [
  {
   "cell_type": "code",
   "execution_count": null,
   "id": "3becd4a9",
   "metadata": {},
   "outputs": [],
   "source": [
    "%%writefile visualizar_caminho.py\n",
    "\n",
    "def visualizar_caminho(mapa, caminho=None):\n",
    "    if not caminho:\n",
    "        for linha in mapa:\n",
    "            print(''.join(linha))\n",
    "        return\n",
    "    mapa_visual = [linha[:] for linha in mapa]\n",
    "    for i, (linha, coluna) in enumerate(caminho):\n",
    "        if i == 0:\n",
    "            mapa_visual[linha][coluna] = 'I'\n",
    "        elif i == len(caminho) - 1:\n",
    "            mapa_visual[linha][coluna] = 'O'\n",
    "        else:\n",
    "            mapa_visual[linha][coluna] = '°'\n",
    "    for linha in mapa_visual:\n",
    "        print(''.join(linha))"
   ]
  }
 ],
 "metadata": {
  "kernelspec": {
   "display_name": "Python 3 (ipykernel)",
   "language": "python",
   "name": "python3"
  },
  "language_info": {
   "codemirror_mode": {
    "name": "ipython",
    "version": 3
   },
   "file_extension": ".py",
   "mimetype": "text/x-python",
   "name": "python",
   "nbconvert_exporter": "python",
   "pygments_lexer": "ipython3",
   "version": "3.11.2"
  }
 },
 "nbformat": 4,
 "nbformat_minor": 5
}
