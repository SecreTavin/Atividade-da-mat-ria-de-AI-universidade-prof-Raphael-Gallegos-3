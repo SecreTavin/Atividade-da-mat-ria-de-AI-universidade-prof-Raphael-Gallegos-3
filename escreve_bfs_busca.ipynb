{
 "cells": [
  {
   "cell_type": "code",
   "execution_count": 1,
   "id": "4e028b05",
   "metadata": {},
   "outputs": [
    {
     "name": "stdout",
     "output_type": "stream",
     "text": [
      "Overwriting bfs_busca.py\n"
     ]
    }
   ],
   "source": [
    "%%writefile bfs_busca.py\n",
    "from collections import deque\n",
    "\n",
    "def executar_bfs(mapa, inicio, objetivo, mostrar_processo=True):\n",
    "    linhas = len(mapa)\n",
    "    colunas = len(mapa[0])\n",
    "    if not (0 <= inicio[0] < linhas and 0 <= inicio[1] < colunas):\n",
    "        return None, \"Posição inicial inválida\", 0\n",
    "    if not (0 <= objetivo[0] < linhas and 0 <= objetivo[1] < colunas):\n",
    "        return None, \"Posição objetivo inválida\", 0\n",
    "    if mapa[inicio[0]][inicio[1]] == '#':\n",
    "        return None, \"Posição inicial é obstáculo\", 0\n",
    "    if mapa[objetivo[0]][objetivo[1]] == '#':\n",
    "        return None, \"Posição objetivo é obstáculo\", 0\n",
    "    fila = deque([(inicio[0], inicio[1], [inicio])])\n",
    "    visitados = set()\n",
    "    visitados.add(inicio)\n",
    "    nos_expandidos = 0\n",
    "    movimentos = [(-1, 0), (1, 0), (0, -1), (0, 1)]\n",
    "    while fila:\n",
    "        linha, coluna, caminho = fila.popleft()\n",
    "        nos_expandidos += 1\n",
    "        if mostrar_processo:\n",
    "            print(f\"Expandindo nó: ({linha}, {coluna})\")\n",
    "        if (linha, coluna) == objetivo:\n",
    "            return caminho, f\"Sucesso! Nós expandidos: {nos_expandidos}\", nos_expandidos\n",
    "        for dl, dc in movimentos:\n",
    "            nova_linha, nova_coluna = linha + dl, coluna + dc\n",
    "            if (0 <= nova_linha < linhas and 0 <= nova_coluna < colunas and\n",
    "                mapa[nova_linha][nova_coluna] != '#' and \n",
    "                (nova_linha, nova_coluna) not in visitados):\n",
    "                visitados.add((nova_linha, nova_coluna))\n",
    "                novo_caminho = caminho + [(nova_linha, nova_coluna)]\n",
    "                fila.append((nova_linha, nova_coluna, novo_caminho))\n",
    "    return None, f\"Nenhum caminho encontrado. Nós expandidos: {nos_expandidos}\", nos_expandidos\n"
   ]
  },
  {
   "cell_type": "code",
   "execution_count": null,
   "id": "6bc8bd41",
   "metadata": {},
   "outputs": [],
   "source": []
  }
 ],
 "metadata": {
  "kernelspec": {
   "display_name": "Python 3 (ipykernel)",
   "language": "python",
   "name": "python3"
  },
  "language_info": {
   "codemirror_mode": {
    "name": "ipython",
    "version": 3
   },
   "file_extension": ".py",
   "mimetype": "text/x-python",
   "name": "python",
   "nbconvert_exporter": "python",
   "pygments_lexer": "ipython3",
   "version": "3.11.2"
  }
 },
 "nbformat": 4,
 "nbformat_minor": 5
}
