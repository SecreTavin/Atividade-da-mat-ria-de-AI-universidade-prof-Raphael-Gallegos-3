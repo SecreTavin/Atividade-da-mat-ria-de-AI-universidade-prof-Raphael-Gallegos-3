{
 "cells": [
  {
   "cell_type": "code",
   "execution_count": 1,
   "id": "bd968b9d",
   "metadata": {},
   "outputs": [
    {
     "name": "stdout",
     "output_type": "stream",
     "text": [
      "Writing imprimir_relatorio.py\n"
     ]
    }
   ],
   "source": [
    "%%writefile imprimir_relatorio.py\n",
    "\n",
    "def imprimir_relatorio(caminho, nos_expandidos, nome_mapa):\n",
    "    print(f\"\\n{'='*60}\")\n",
    "    print(\"RELATÓRIO DA BUSCA A*\")\n",
    "    print('='*60)\n",
    "    if caminho:\n",
    "        print(\"Existe caminho entre início e objetivo? SIM\")\n",
    "        print(f\"Número de passos do caminho mais curto: {len(caminho)} passos\")\n",
    "    else:\n",
    "        print(\"Existe caminho entre início e objetivo? NÃO\")\n",
    "        print(\"Número de passos do caminho mais curto: N/A\")\n",
    "    print(f\"Nós explorados no processo: {nos_expandidos} nós\")\n",
    "    print(f\"\\nInformações adicionais:\")\n",
    "    print(f\"   Mapa: {nome_mapa}\")\n",
    "    print(f\"   Algoritmo: A* com heurística de Manhattan\")\n",
    "    if caminho:\n",
    "        print(f\"   Coordenadas do caminho: {caminho}\")\n",
    "        print(f\"   Eficiência: {len(caminho)}/{nos_expandidos} = {len(caminho)/nos_expandidos:.2%}\")\n",
    "    print('='*60)"
   ]
  }
 ],
 "metadata": {
  "kernelspec": {
   "display_name": "Python 3 (ipykernel)",
   "language": "python",
   "name": "python3"
  },
  "language_info": {
   "codemirror_mode": {
    "name": "ipython",
    "version": 3
   },
   "file_extension": ".py",
   "mimetype": "text/x-python",
   "name": "python",
   "nbconvert_exporter": "python",
   "pygments_lexer": "ipython3",
   "version": "3.11.2"
  }
 },
 "nbformat": 4,
 "nbformat_minor": 5
}
