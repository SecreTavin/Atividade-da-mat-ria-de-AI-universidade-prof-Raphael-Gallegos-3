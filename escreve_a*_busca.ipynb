{
 "cells": [
  {
   "cell_type": "code",
   "execution_count": 1,
   "id": "df848500",
   "metadata": {},
   "outputs": [
    {
     "name": "stdout",
     "output_type": "stream",
     "text": [
      "Overwriting a_estrela_busca.py\n"
     ]
    }
   ],
   "source": [
    "%%writefile a_estrela_busca.py\n",
    "import heapq\n",
    "\n",
    "def calcular_manhattan(pos1, pos2):\n",
    "    return abs(pos1[0] - pos2[0]) + abs(pos1[1] - pos2[1])\n",
    "\n",
    "def executar_a_estrela(mapa, inicio, objetivo, mostrar_processo=True):\n",
    "    linhas = len(mapa)\n",
    "    colunas = len(mapa[0])\n",
    "\n",
    "    if not (0 <= inicio[0] < linhas and 0 <= inicio[1] < colunas):\n",
    "        return None, \"Posição inicial inválida\", 0\n",
    "    if not (0 <= objetivo[0] < linhas and 0 <= objetivo[1] < colunas):\n",
    "        return None, \"Posição objetivo inválida\", 0\n",
    "    if mapa[inicio[0]][inicio[1]] == '#':\n",
    "        return None, \"Posição inicial é obstáculo\", 0\n",
    "    if mapa[objetivo[0]][objetivo[1]] == '#':\n",
    "        return None, \"Posição objetivo é obstáculo\", 0\n",
    "\n",
    "    heap = []\n",
    "    g_inicial = 0\n",
    "    h_inicial = calcular_manhattan(inicio, objetivo)\n",
    "    f_inicial = g_inicial + h_inicial\n",
    "    heapq.heappush(heap, (f_inicial, g_inicial, inicio, [inicio]))\n",
    "    \n",
    "    visitados = set()\n",
    "    #isitados.add(inicio)\n",
    "    nos_expandidos = 0\n",
    "    movimentos = [(-1, 0), (1, 0), (0, -1), (0, 1)]\n",
    "\n",
    "    while heap:\n",
    "        f, g, (linha, coluna), caminho = heapq.heappop(heap)\n",
    "        \n",
    "        if (linha, coluna) in visitados:\n",
    "            continue\n",
    "        \n",
    "        visitados.add((linha, coluna))\n",
    "        nos_expandidos += 1\n",
    "\n",
    "        if mostrar_processo:\n",
    "            h = f - g\n",
    "            print(f\"Expandindo nó: ({linha}, {coluna}) - g={g}, h={h}, f={f}\")\n",
    "\n",
    "        if (linha, coluna) == objetivo:\n",
    "            return caminho, f\"Sucesso! Nós expandidos: {nos_expandidos}\", nos_expandidos\n",
    "\n",
    "        for dl, dc in movimentos:\n",
    "            nova_linha, nova_coluna = linha + dl, coluna + dc\n",
    "\n",
    "            if (0 <= nova_linha < linhas and 0 <= nova_coluna < colunas and\n",
    "                mapa[nova_linha][nova_coluna] != '#' and\n",
    "                (nova_linha, nova_coluna) not in visitados):\n",
    "\n",
    "                g_novo = g + 1\n",
    "                h_novo = calcular_manhattan((nova_linha, nova_coluna), objetivo)\n",
    "                f_novo = g_novo + h_novo\n",
    "                novo_caminho = caminho + [(nova_linha, nova_coluna)]\n",
    "\n",
    "                heapq.heappush(heap, (f_novo, g_novo, (nova_linha, nova_coluna), novo_caminho))\n",
    "\n",
    "    return None, f\"Nenhum caminho encontrado. Nós expandidos: {nos_expandidos}\", nos_expandidos\n",
    "\n"
   ]
  },
  {
   "cell_type": "code",
   "execution_count": null,
   "id": "b71e3d7c",
   "metadata": {},
   "outputs": [],
   "source": []
  }
 ],
 "metadata": {
  "kernelspec": {
   "display_name": "Python 3 (ipykernel)",
   "language": "python",
   "name": "python3"
  },
  "language_info": {
   "codemirror_mode": {
    "name": "ipython",
    "version": 3
   },
   "file_extension": ".py",
   "mimetype": "text/x-python",
   "name": "python",
   "nbconvert_exporter": "python",
   "pygments_lexer": "ipython3",
   "version": "3.11.2"
  }
 },
 "nbformat": 4,
 "nbformat_minor": 5
}
